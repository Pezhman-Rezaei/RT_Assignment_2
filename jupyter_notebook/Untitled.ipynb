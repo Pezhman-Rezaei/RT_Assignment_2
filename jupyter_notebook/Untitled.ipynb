{
 "cells": [
  {
   "cell_type": "markdown",
   "id": "4ba2c2ac",
   "metadata": {},
   "source": [
    "# Import Libraries and Define ROS Initialization\n"
   ]
  },
  {
   "cell_type": "code",
   "execution_count": 1,
   "id": "de0ef2d5",
   "metadata": {},
   "outputs": [],
   "source": [
    "# import libraries and define ros initialization\n",
    "import rospy\n",
    "from geometry_msgs.msg import Point, Pose, Twist\n",
    "from nav_msgs.msg import Odometry\n",
    "import actionlib\n",
    "import assignment_2_2023.msg\n",
    "from assignment_2_2023.msg import Vel\n",
    "from assignment_2_2023.msg import PlanningAction, PlanningGoal\n",
    "import ipywidgets as widgets\n",
    "from IPython.display import display, clear_output\n",
    "import matplotlib.pyplot as plt\n",
    "import tkinter as tk\n",
    "from matplotlib.backends.backend_tkagg import FigureCanvasTkAgg\n",
    "import tf\n",
    "from tf.transformations import quaternion_matrix\n",
    "import numpy as np\n",
    "from matplotlib.animation import FuncAnimation\n",
    "%matplotlib widget"
   ]
  },
  {
   "cell_type": "markdown",
   "id": "c103fa77",
   "metadata": {},
   "source": [
    "# ROS Initialization"
   ]
  },
  {
   "cell_type": "code",
   "execution_count": 2,
   "id": "eff39d1a",
   "metadata": {},
   "outputs": [],
   "source": [
    "def ros_components_init():\n",
    "    global client\n",
    "    rospy.init_node('set_target_client', anonymous=True)\n",
    "    client = actionlib.SimpleActionClient('/reaching_goal', assignment_2_2023.msg.PlanningAction)\n",
    "    client.wait_for_server()\n",
    "    goal_cancelled = False\n",
    "    pub = rospy.Publisher(\"/pos_vel\", Vel, queue_size=1)\n",
    "\n",
    "    return pub, client, goal_cancelled\n",
    "\n",
    "pub, client, goal_cancelled = ros_components_init()\n"
   ]
  },
  {
   "cell_type": "markdown",
   "id": "1ca9838d",
   "metadata": {},
   "source": [
    "# Widget Initialization and Label Update\n"
   ]
  },
  {
   "cell_type": "code",
   "execution_count": 3,
   "id": "5ac8a36f",
   "metadata": {},
   "outputs": [
    {
     "data": {
      "application/vnd.jupyter.widget-view+json": {
       "model_id": "2f4e35bb5a0c410086f61bff81399eca",
       "version_major": 2,
       "version_minor": 0
      },
      "text/plain": [
       "Label(value='Position: (0.0, 0.0)')"
      ]
     },
     "metadata": {},
     "output_type": "display_data"
    },
    {
     "data": {
      "application/vnd.jupyter.widget-view+json": {
       "model_id": "c472bd512c88499fbc4d51687e16f56c",
       "version_major": 2,
       "version_minor": 0
      },
      "text/plain": [
       "Label(value='Velocity: linear_x=0.0, angular_z=0.0')"
      ]
     },
     "metadata": {},
     "output_type": "display_data"
    },
    {
     "data": {
      "application/vnd.jupyter.widget-view+json": {
       "model_id": "dd4d95e4e6484af6a04860cb98890ee4",
       "version_major": 2,
       "version_minor": 0
      },
      "text/plain": [
       "Label(value='Target: (0.0, 0.0)')"
      ]
     },
     "metadata": {},
     "output_type": "display_data"
    },
    {
     "data": {
      "application/vnd.jupyter.widget-view+json": {
       "model_id": "0235a6af7414474ca5c7414af5b9b04e",
       "version_major": 2,
       "version_minor": 0
      },
      "text/plain": [
       "FloatText(value=0.0, description='Goal X:')"
      ]
     },
     "metadata": {},
     "output_type": "display_data"
    },
    {
     "data": {
      "application/vnd.jupyter.widget-view+json": {
       "model_id": "129fc45b4582479e9715328679a0cb1a",
       "version_major": 2,
       "version_minor": 0
      },
      "text/plain": [
       "FloatText(value=0.0, description='Goal Y:')"
      ]
     },
     "metadata": {},
     "output_type": "display_data"
    },
    {
     "data": {
      "application/vnd.jupyter.widget-view+json": {
       "model_id": "9ce18c19d5654abda8eef8b4525a644c",
       "version_major": 2,
       "version_minor": 0
      },
      "text/plain": [
       "Button(description='Set New Goal', style=ButtonStyle())"
      ]
     },
     "metadata": {},
     "output_type": "display_data"
    },
    {
     "data": {
      "application/vnd.jupyter.widget-view+json": {
       "model_id": "170b2bb4390042318ad53f40e1196553",
       "version_major": 2,
       "version_minor": 0
      },
      "text/plain": [
       "Button(description='Cancel Goal', style=ButtonStyle())"
      ]
     },
     "metadata": {},
     "output_type": "display_data"
    },
    {
     "data": {
      "application/vnd.jupyter.widget-view+json": {
       "model_id": "edd4e3ccf7df4d8fbdb73762d1f44236",
       "version_major": 2,
       "version_minor": 0
      },
      "text/plain": [
       "Text(value='No goal set', description='Goal Status:', disabled=True)"
      ]
     },
     "metadata": {},
     "output_type": "display_data"
    }
   ],
   "source": [
    "# define widget initialization and label update\n",
    "def init_widgets():\n",
    "    global goal_status  # Make goal_status global\n",
    "    pos_label = widgets.Label(value=\"Position: (0.0, 0.0)\")\n",
    "    vel_label = widgets.Label(value=\"Velocity: linear_x=0.0, angular_z=0.0\")\n",
    "    target_label = widgets.Label(value=\"Target: (0.0, 0.0)\")\n",
    "    \n",
    "    goal_x_input = widgets.FloatText(description=\"Goal X:\")\n",
    "    goal_y_input = widgets.FloatText(description=\"Goal Y:\")\n",
    "    set_goal_button = widgets.Button(description=\"Set New Goal\")\n",
    "    cancel_goal_button = widgets.Button(description=\"Cancel Goal\")\n",
    "    goal_status = widgets.Text(value=\"No goal set\", description='Goal Status:', disabled=True)  # Added\n",
    "    \n",
    "    display(pos_label, vel_label, target_label, goal_x_input, goal_y_input, set_goal_button, cancel_goal_button, goal_status)  # Updated display call\n",
    "    \n",
    "    return pos_label, vel_label, target_label, goal_x_input, goal_y_input, set_goal_button, cancel_goal_button, goal_status  # Updated return statement\n",
    "\n",
    "pos_label, vel_label, target_label, goal_x_input, goal_y_input, set_goal_button, cancel_goal_button, goal_status = init_widgets()\n"
   ]
  },
  {
   "cell_type": "markdown",
   "id": "49418f46",
   "metadata": {},
   "source": [
    "# Publishing Position and Velocity\n"
   ]
  },
  {
   "cell_type": "code",
   "execution_count": 4,
   "id": "d9567956",
   "metadata": {},
   "outputs": [
    {
     "data": {
      "text/plain": [
       "<rospy.topics.Subscriber at 0x7faf7b57cf70>"
      ]
     },
     "execution_count": 4,
     "metadata": {},
     "output_type": "execute_result"
    }
   ],
   "source": [
    "#publish position and velocity\n",
    "def publish_position_velocity(msg):\n",
    "    global pos_label, vel_label, pub\n",
    "    current_pos = msg.pose.pose.position\n",
    "    current_vel_linear = msg.twist.twist.linear\n",
    "    current_vel_angular = msg.twist.twist.angular\n",
    "    \n",
    "    pos_and_vel = Vel()\n",
    "    pos_and_vel.pos_x = current_pos.x\n",
    "    pos_and_vel.pos_y = current_pos.y\n",
    "    pos_and_vel.vel_x = current_vel_linear.x\n",
    "    pos_and_vel.vel_z = current_vel_angular.z\n",
    "    \n",
    "    pub.publish(pos_and_vel)\n",
    "    \n",
    "    pos_label.value = f\"Position: ({current_pos.x}, {current_pos.y})\"\n",
    "    vel_label.value = f\"Velocity: linear_x={current_vel_linear.x}, angular_z={current_vel_angular.z}\"\n",
    "\n",
    "rospy.Subscriber(\"/odom\", Odometry, publish_position_velocity)\n"
   ]
  },
  {
   "cell_type": "markdown",
   "id": "77450dfa",
   "metadata": {},
   "source": [
    "# Setting and Canceling Goals\n"
   ]
  },
  {
   "cell_type": "code",
   "execution_count": 5,
   "id": "1cf1008c",
   "metadata": {},
   "outputs": [],
   "source": [
    "# set new goal\n",
    "def set_new_goal(b):\n",
    "    global goal_x_input, goal_y_input, goal_status, goal_cancelled  # Added goal_cancelled\n",
    "    global target_label\n",
    "    input_x = goal_x_input.value\n",
    "    input_y = goal_y_input.value\n",
    "    \n",
    "    rospy.set_param('/des_pos_x', input_x)\n",
    "    rospy.set_param('/des_pos_y', input_y)\n",
    "    \n",
    "    goal = assignment_2_2023.msg.PlanningGoal()\n",
    "    goal.target_pose.pose.position.x = input_x\n",
    "    goal.target_pose.pose.position.y = input_y\n",
    "    client.send_goal(goal, done_cb=goal_done_cb, feedback_cb=goal_feedback_cb)\n",
    "    goal_cancelled = False  # Reset the flag whenever a new goal is set\n",
    "    \n",
    "    target_label.value = f\"Target: ({input_x}, {input_y})\"\n",
    "    goal_status.value = f\"Goal set at ({input_x}, {input_y})\"  # Update goal status\n",
    "\n",
    "#cancel goal\n",
    "def cancel_goal(b):\n",
    "    global goal_cancelled, goal_status  # Added goal_status\n",
    "    global target_label\n",
    "    if not goal_cancelled:\n",
    "        goal_cancelled = True\n",
    "        client.cancel_goal()\n",
    "        rospy.loginfo(\"Current goal has been cancelled\")\n",
    "        goal_status.value = \"Goal canceled\"  # Update goal status\n",
    "    else:\n",
    "        rospy.loginfo(\"No active goal to cancel\")\n",
    "    \n",
    "    target_label.value = \"Target: (0.0, 0.0)\"\n",
    "\n",
    "set_goal_button.on_click(set_new_goal)\n",
    "cancel_goal_button.on_click(cancel_goal)\n"
   ]
  },
  {
   "cell_type": "markdown",
   "id": "da16c51d",
   "metadata": {},
   "source": [
    "# Handling Goal Results\n"
   ]
  },
  {
   "cell_type": "code",
   "execution_count": 6,
   "id": "8ae05914",
   "metadata": {},
   "outputs": [],
   "source": [
    "# handle goal results and feedback\n",
    "target_reached = 0\n",
    "target_canceled = 0\n",
    "\n",
    "def goal_done_cb(state, result):\n",
    "    global target_reached, target_canceled, goal_status  # Added goal_status\n",
    "    if state == actionlib.GoalStatus.SUCCEEDED:\n",
    "        target_reached += 1\n",
    "        goal_status.value = \"Goal reached\"\n",
    "    else:\n",
    "        target_canceled += 1\n",
    "        goal_status.value = \"Goal failed/canceled\"\n",
    "    vix_goals.update(target_reached, target_canceled)  # Update the bar chart\n",
    "\n",
    "def goal_feedback_cb(feedback):\n",
    "    pass\n"
   ]
  },
  {
   "cell_type": "markdown",
   "id": "3a98b0f9",
   "metadata": {},
   "source": [
    "# Visualizing Robot Position in a Separate Window\n"
   ]
  },
  {
   "cell_type": "code",
   "execution_count": 7,
   "id": "d2853855",
   "metadata": {},
   "outputs": [],
   "source": [
    "#plot robot position\n",
    "class Visualiser:\n",
    "    def __init__(self):\n",
    "#         self.root = root\n",
    "#         self.root.title(\"Robot Position\")\n",
    "        self.fig, self.ax = plt.subplots()\n",
    "        self.ln, = plt.plot([], [], 'bo')\n",
    "        self.x_data, self.y_data = [], []\n",
    "\n",
    "#         self.canvas = FigureCanvasTkAgg(self.fig, master=self.root)\n",
    "#         self.canvas.get_tk_widget().pack()\n",
    "\n",
    "    def plot_init(self):\n",
    "        self.ax.set_xlim(-10, 10)\n",
    "        self.ax.set_ylim(-10, 10)\n",
    "        self.ax.grid(True)  # Add grid lines to the plot\n",
    "        return self.ln,\n",
    "        \n",
    "    def odom_callback(self, msg):\n",
    "        self.y_data.append(msg.pose.pose.position.y)\n",
    "        self.x_data.append(msg.pose.pose.position.x)\n",
    "\n",
    "    def update_plot(self, frame):\n",
    "        self.ln.set_data(self.x_data, self.y_data)\n",
    "        return self.ln,\n"
   ]
  },
  {
   "cell_type": "markdown",
   "id": "a9ec5a41",
   "metadata": {},
   "source": [
    "# Visualizing Robot Velocity in a Separate Window\n"
   ]
  },
  {
   "cell_type": "code",
   "execution_count": 8,
   "id": "1d10fc7f",
   "metadata": {},
   "outputs": [],
   "source": [
    "#plot robot velocity\n",
    "class VelocityVisualiser:\n",
    "    def __init__(self):\n",
    "#         self.root = root\n",
    "#         self.root.title(\"Robot Velocity\")\n",
    "        self.fig, self.ax = plt.subplots()\n",
    "        self.ln, = plt.plot([], [], 'r')\n",
    "        self.vel_data = []\n",
    "\n",
    "#         self.canvas = FigureCanvasTkAgg(self.fig, master=self.root)\n",
    "#         self.canvas.get_tk_widget().pack()\n",
    "\n",
    "    def plot_init(self):\n",
    "        self.ax.set_xlim(0, 100)\n",
    "        self.ax.set_ylim(-1, 1)\n",
    "        self.ax.grid(True)  # Add grid lines to the plot\n",
    "        return self.ln,\n",
    "        \n",
    "    def odom_callback(self, msg):\n",
    "        linear_vel = msg.twist.twist.linear.x\n",
    "        self.vel_data.append(linear_vel)\n",
    "        \n",
    "        if len(self.vel_data) > 100:\n",
    "            self.vel_data.pop(0)\n",
    "\n",
    "    def update_plot(self, frame):\n",
    "        self.ln.set_data(range(len(self.vel_data)), self.vel_data)\n",
    "        self.ax.set_xlim(0, len(self.vel_data))\n",
    "        return self.ln,\n"
   ]
  },
  {
   "cell_type": "markdown",
   "id": "0504ab5b",
   "metadata": {},
   "source": [
    "# Visualizing Goal Status in a Separate Window\n"
   ]
  },
  {
   "cell_type": "code",
   "execution_count": 9,
   "id": "9cf19f95",
   "metadata": {},
   "outputs": [],
   "source": [
    "#plot goal status\n",
    "class VisualizerGoals:\n",
    "    def __init__(self, root):\n",
    "        self.root = root\n",
    "        self.root.title(\"Goal Status\")\n",
    "        self.fig, self.ax = plt.subplots()\n",
    "        self.res = ['Successful', 'Failed']\n",
    "        self.n_goals = [0, 0]\n",
    "        self.bar_colors = ['tab:green', 'tab:red']\n",
    "        self.bar = self.ax.bar(self.res, self.n_goals, color=self.bar_colors)\n",
    "        self.ax.set_title('Counting the State of the Goals - Successful or Failed')\n",
    "        self.ax.set_ylim(0, 10)  # Adjust this to a reasonable upper limit based on expected number of goals\n",
    "\n",
    "        self.canvas = FigureCanvasTkAgg(self.fig, master=self.root)\n",
    "        self.canvas.get_tk_widget().pack()\n",
    "\n",
    "    def update(self, s, c):\n",
    "        self.n_goals = [s, c]\n",
    "        for bar, height in zip(self.bar, self.n_goals):\n",
    "            bar.set_height(height)\n",
    "        self.ax.relim()\n",
    "        self.ax.autoscale_view()\n",
    "        self.fig.canvas.draw()\n"
   ]
  },
  {
   "cell_type": "markdown",
   "id": "80bbefec",
   "metadata": {},
   "source": [
    "# Cell 10: Main Function\n"
   ]
  },
  {
   "cell_type": "code",
   "execution_count": 10,
   "id": "3503d7b4",
   "metadata": {},
   "outputs": [
    {
     "data": {
      "application/vnd.jupyter.widget-view+json": {
       "model_id": "1b5c2a41943646a7bf3d81c2a80879fd",
       "version_major": 2,
       "version_minor": 0
      },
      "text/plain": [
       "Canvas(toolbar=Toolbar(toolitems=[('Home', 'Reset original view', 'home', 'home'), ('Back', 'Back to previous …"
      ]
     },
     "metadata": {},
     "output_type": "display_data"
    },
    {
     "data": {
      "application/vnd.jupyter.widget-view+json": {
       "model_id": "6f6dca044a2d4b1ca63387fbddbd6de2",
       "version_major": 2,
       "version_minor": 0
      },
      "text/plain": [
       "Canvas(toolbar=Toolbar(toolitems=[('Home', 'Reset original view', 'home', 'home'), ('Back', 'Back to previous …"
      ]
     },
     "metadata": {},
     "output_type": "display_data"
    },
    {
     "data": {
      "application/vnd.jupyter.widget-view+json": {
       "model_id": "f0f0138fb9154d4a905000f07b5ffcf3",
       "version_major": 2,
       "version_minor": 0
      },
      "text/plain": [
       "Canvas(toolbar=Toolbar(toolitems=[('Home', 'Reset original view', 'home', 'home'), ('Back', 'Back to previous …"
      ]
     },
     "metadata": {},
     "output_type": "display_data"
    }
   ],
   "source": [
    "#main function\n",
    "if __name__ == \"__main__\":\n",
    "#     pos_label, vel_label, target_label, goal_x_input, goal_y_input, set_goal_button, cancel_goal_button, goal_status = init_widgets()  # Updated to unpack 8 values\n",
    "    \n",
    "    rospy.Subscriber(\"/odom\", Odometry, publish_position_velocity)\n",
    "\n",
    "    root_position = tk.Tk()\n",
    "    vis = Visualiser()\n",
    "    sub1 = rospy.Subscriber('/odom', Odometry, vis.odom_callback)\n",
    "    ani1 = FuncAnimation(vis.fig, vis.update_plot, init_func=vis.plot_init)\n",
    "\n",
    "    root_velocity = tk.Tk()\n",
    "    vel_vis = VelocityVisualiser()\n",
    "    sub2 = rospy.Subscriber('/odom', Odometry, vel_vis.odom_callback)\n",
    "    ani2 = FuncAnimation(vel_vis.fig, vel_vis.update_plot, init_func=vel_vis.plot_init)\n",
    "\n",
    "    root_goals = tk.Tk()\n",
    "    vix_goals = VisualizerGoals(root_goals)\n",
    "    \n",
    "    set_goal_button.on_click(set_new_goal)\n",
    "    cancel_goal_button.on_click(cancel_goal)\n",
    "    \n",
    "#     root_position.mainloop()\n",
    "#     root_velocity.mainloop()\n",
    "#     root_goals.mainloop()\n",
    "\n"
   ]
  }
 ],
 "metadata": {
  "kernelspec": {
   "display_name": "Python 3 (ipykernel)",
   "language": "python",
   "name": "python3"
  },
  "language_info": {
   "codemirror_mode": {
    "name": "ipython",
    "version": 3
   },
   "file_extension": ".py",
   "mimetype": "text/x-python",
   "name": "python",
   "nbconvert_exporter": "python",
   "pygments_lexer": "ipython3",
   "version": "3.8.5"
  }
 },
 "nbformat": 4,
 "nbformat_minor": 5
}
